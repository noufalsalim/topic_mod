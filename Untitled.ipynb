{
 "cells": [
  {
   "cell_type": "code",
   "execution_count": 1,
   "metadata": {
    "collapsed": true
   },
   "outputs": [],
   "source": [
    "import os"
   ]
  },
  {
   "cell_type": "code",
   "execution_count": 2,
   "metadata": {
    "collapsed": true
   },
   "outputs": [],
   "source": [
    "CORPUS_PATH = os.path.join('data')"
   ]
  },
  {
   "cell_type": "code",
   "execution_count": 3,
   "metadata": {
    "collapsed": true
   },
   "outputs": [],
   "source": [
    "filenames = sorted([os.path.join(CORPUS_PATH, fn) for fn in os.listdir(CORPUS_PATH)])"
   ]
  },
  {
   "cell_type": "code",
   "execution_count": 4,
   "metadata": {},
   "outputs": [
    {
     "data": {
      "text/plain": [
       "11"
      ]
     },
     "execution_count": 4,
     "metadata": {},
     "output_type": "execute_result"
    }
   ],
   "source": [
    "len(filenames)"
   ]
  },
  {
   "cell_type": "code",
   "execution_count": 5,
   "metadata": {},
   "outputs": [
    {
     "data": {
      "text/plain": [
       "['data/Cluster0',\n",
       " 'data/Cluster1',\n",
       " 'data/Cluster10',\n",
       " 'data/Cluster2',\n",
       " 'data/Cluster3',\n",
       " 'data/Cluster4',\n",
       " 'data/Cluster5',\n",
       " 'data/Cluster6',\n",
       " 'data/Cluster7',\n",
       " 'data/Cluster8',\n",
       " 'data/Cluster9']"
      ]
     },
     "execution_count": 5,
     "metadata": {},
     "output_type": "execute_result"
    }
   ],
   "source": [
    "filenames[:11]"
   ]
  },
  {
   "cell_type": "code",
   "execution_count": 6,
   "metadata": {
    "collapsed": true
   },
   "outputs": [],
   "source": [
    "import numpy as np\n",
    "import itertools\n",
    "import operator"
   ]
  },
  {
   "cell_type": "code",
   "execution_count": 7,
   "metadata": {
    "collapsed": true
   },
   "outputs": [],
   "source": [
    "def grouper(n, iterable, fillvalue=None):\n",
    "    \"Collect data into fixed-length chunks or blocks\"\n",
    "    args = [iter(iterable)] * n\n",
    "    return itertools.zip_longest(*args, fillvalue=fillvalue)"
   ]
  },
  {
   "cell_type": "code",
   "execution_count": 8,
   "metadata": {
    "collapsed": true
   },
   "outputs": [],
   "source": [
    "doctopic_triples = []\n",
    "mallet_docnames = []"
   ]
  },
  {
   "cell_type": "code",
   "execution_count": 9,
   "metadata": {},
   "outputs": [],
   "source": [
    "with open(\"/tmp/doc-topic.txt\") as f:\n",
    "    f.readline()  # read one line in order to skip the header\n",
    "    for line in f:\n",
    "        docnum, docname, *values = line.rstrip().split('\\t')\n",
    "        mallet_docnames.append(docname)\n",
    "        for topic, share in grouper(2, values):\n",
    "            triple = (docname, int(topic), float(share))\n",
    "            doctopic_triples.append(triple)"
   ]
  },
  {
   "cell_type": "code",
   "execution_count": 10,
   "metadata": {
    "collapsed": true
   },
   "outputs": [],
   "source": [
    "doctopic_triples = sorted(doctopic_triples, key=operator.itemgetter(0,1))"
   ]
  },
  {
   "cell_type": "code",
   "execution_count": 11,
   "metadata": {
    "collapsed": true
   },
   "outputs": [],
   "source": [
    "mallet_docnames = sorted(mallet_docnames)"
   ]
  },
  {
   "cell_type": "code",
   "execution_count": 12,
   "metadata": {
    "collapsed": true
   },
   "outputs": [],
   "source": [
    "num_docs = len(mallet_docnames)"
   ]
  },
  {
   "cell_type": "code",
   "execution_count": 13,
   "metadata": {
    "collapsed": true
   },
   "outputs": [],
   "source": [
    "num_topics = len(doctopic_triples) // len(mallet_docnames)"
   ]
  },
  {
   "cell_type": "code",
   "execution_count": 14,
   "metadata": {
    "collapsed": true
   },
   "outputs": [],
   "source": [
    "doctopic = np.zeros((num_docs, num_topics))"
   ]
  },
  {
   "cell_type": "code",
   "execution_count": 15,
   "metadata": {},
   "outputs": [],
   "source": [
    "for triple in doctopic_triples:\n",
    "    docname, topic, share = triple\n",
    "    row_num = mallet_docnames.index(docname)\n",
    "    doctopic[row_num, topic] = share"
   ]
  },
  {
   "cell_type": "code",
   "execution_count": 16,
   "metadata": {
    "collapsed": true
   },
   "outputs": [],
   "source": [
    "#doctopic = np.zeros((num_docs, num_topics))"
   ]
  },
  {
   "cell_type": "code",
   "execution_count": 17,
   "metadata": {
    "collapsed": true
   },
   "outputs": [],
   "source": [
    "#for i, (doc_name, triples) in enumerate(itertools.groupby(doctopic_triples, key=operator.itemgetter(0))):\n",
    "#    doctopic[i, :] = np.array([share for _, _, share in triples])"
   ]
  },
  {
   "cell_type": "code",
   "execution_count": 18,
   "metadata": {
    "collapsed": true
   },
   "outputs": [],
   "source": [
    "novel_names = []"
   ]
  },
  {
   "cell_type": "code",
   "execution_count": 19,
   "metadata": {},
   "outputs": [
    {
     "name": "stdout",
     "output_type": "stream",
     "text": [
      "Cluster0\n",
      "Cluster1\n",
      "Cluster10\n",
      "Cluster2\n",
      "Cluster3\n",
      "Cluster4\n",
      "Cluster5\n",
      "Cluster6\n",
      "Cluster7\n",
      "Cluster8\n",
      "Cluster9\n"
     ]
    }
   ],
   "source": [
    "for fn in filenames:\n",
    "    basename = os.path.basename(fn)\n",
    "    name, ext = os.path.splitext(basename)\n",
    "    #name = name.rstrip('0123456789')\n",
    "    #print (name)\n",
    "    novel_names.append(name)"
   ]
  },
  {
   "cell_type": "code",
   "execution_count": 20,
   "metadata": {
    "collapsed": true
   },
   "outputs": [],
   "source": [
    "novel_names = np.asarray(novel_names)"
   ]
  },
  {
   "cell_type": "code",
   "execution_count": 21,
   "metadata": {
    "collapsed": true
   },
   "outputs": [],
   "source": [
    "doctopic_orig = doctopic.copy()"
   ]
  },
  {
   "cell_type": "code",
   "execution_count": 22,
   "metadata": {
    "collapsed": true
   },
   "outputs": [],
   "source": [
    "num_groups = len(set(novel_names))"
   ]
  },
  {
   "cell_type": "code",
   "execution_count": 24,
   "metadata": {
    "collapsed": true
   },
   "outputs": [],
   "source": [
    "doctopic_grouped = np.zeros((num_groups, num_topics))"
   ]
  },
  {
   "cell_type": "code",
   "execution_count": 25,
   "metadata": {
    "collapsed": true
   },
   "outputs": [],
   "source": [
    "for i, name in enumerate(sorted(set(novel_names))):\n",
    "    doctopic_grouped[i, :] = np.mean(doctopic[novel_names == name, :], axis=0)"
   ]
  },
  {
   "cell_type": "code",
   "execution_count": 30,
   "metadata": {},
   "outputs": [],
   "source": [
    "doctopic = doctopic_grouped\n",
    "#print (doctopic)"
   ]
  },
  {
   "cell_type": "code",
   "execution_count": 31,
   "metadata": {
    "collapsed": true
   },
   "outputs": [],
   "source": [
    "from sklearn.feature_extraction.text import CountVectorizer"
   ]
  },
  {
   "cell_type": "code",
   "execution_count": 32,
   "metadata": {
    "collapsed": true
   },
   "outputs": [],
   "source": [
    "CORPUS_PATH_UNSPLIT = os.path.join('data')"
   ]
  },
  {
   "cell_type": "code",
   "execution_count": 33,
   "metadata": {
    "collapsed": true
   },
   "outputs": [],
   "source": [
    "filenames = [os.path.join(CORPUS_PATH_UNSPLIT, fn) for fn in sorted(os.listdir(CORPUS_PATH_UNSPLIT))]"
   ]
  },
  {
   "cell_type": "code",
   "execution_count": 34,
   "metadata": {
    "collapsed": true
   },
   "outputs": [],
   "source": [
    "vectorizer = CountVectorizer(input='filename')"
   ]
  },
  {
   "cell_type": "code",
   "execution_count": 35,
   "metadata": {
    "collapsed": true
   },
   "outputs": [],
   "source": [
    "dtm = vectorizer.fit_transform(filenames)  # a sparse matrix"
   ]
  },
  {
   "cell_type": "code",
   "execution_count": 37,
   "metadata": {},
   "outputs": [
    {
     "name": "stdout",
     "output_type": "stream",
     "text": [
      "  (0, 1574)\t1\n",
      "  (0, 1373)\t1\n",
      "  (0, 2794)\t1\n",
      "  (0, 3818)\t1\n",
      "  (0, 1412)\t1\n",
      "  (0, 4137)\t1\n",
      "  (0, 2076)\t2\n",
      "  (0, 3306)\t1\n",
      "  (0, 1219)\t1\n",
      "  (0, 841)\t1\n",
      "  (0, 3232)\t1\n",
      "  (0, 3555)\t1\n",
      "  (0, 4073)\t1\n",
      "  (0, 2412)\t1\n",
      "  (0, 4096)\t1\n",
      "  (0, 1855)\t1\n",
      "  (0, 1468)\t1\n",
      "  (0, 3652)\t1\n",
      "  (0, 2281)\t1\n",
      "  (0, 2224)\t1\n",
      "  (0, 2688)\t1\n",
      "  (0, 1614)\t1\n",
      "  (0, 546)\t1\n",
      "  (0, 3547)\t1\n",
      "  (0, 1146)\t2\n",
      "  :\t:\n",
      "  (10, 2795)\t3\n",
      "  (10, 2240)\t8\n",
      "  (10, 2236)\t28\n",
      "  (10, 2025)\t1\n",
      "  (10, 390)\t97\n",
      "  (10, 857)\t1\n",
      "  (10, 3959)\t47\n",
      "  (10, 785)\t1\n",
      "  (10, 2620)\t4\n",
      "  (10, 460)\t18\n",
      "  (10, 3909)\t19\n",
      "  (10, 1717)\t1\n",
      "  (10, 3828)\t1\n",
      "  (10, 3266)\t1\n",
      "  (10, 2035)\t46\n",
      "  (10, 1111)\t2\n",
      "  (10, 1691)\t35\n",
      "  (10, 561)\t9\n",
      "  (10, 1890)\t10\n",
      "  (10, 4107)\t7\n",
      "  (10, 1824)\t13\n",
      "  (10, 2790)\t15\n",
      "  (10, 2772)\t107\n",
      "  (10, 2008)\t1\n",
      "  (10, 3910)\t148\n"
     ]
    }
   ],
   "source": [
    "print (dtm)"
   ]
  },
  {
   "cell_type": "code",
   "execution_count": 38,
   "metadata": {},
   "outputs": [
    {
     "data": {
      "text/plain": [
       "(11, 4296)"
      ]
     },
     "execution_count": 38,
     "metadata": {},
     "output_type": "execute_result"
    }
   ],
   "source": [
    "dtm.shape"
   ]
  },
  {
   "cell_type": "code",
   "execution_count": 39,
   "metadata": {},
   "outputs": [
    {
     "data": {
      "text/plain": [
       "81056"
      ]
     },
     "execution_count": 39,
     "metadata": {},
     "output_type": "execute_result"
    }
   ],
   "source": [
    "dtm.data.nbytes    # number of bytes dtm takes up"
   ]
  },
  {
   "cell_type": "code",
   "execution_count": 40,
   "metadata": {},
   "outputs": [
    {
     "data": {
      "text/plain": [
       "378048"
      ]
     },
     "execution_count": 40,
     "metadata": {},
     "output_type": "execute_result"
    }
   ],
   "source": [
    "dtm.toarray().data.nbytes      # number of bytes dtm as array takes up"
   ]
  },
  {
   "cell_type": "code",
   "execution_count": 41,
   "metadata": {},
   "outputs": [
    {
     "data": {
      "text/plain": [
       "(11, 20)"
      ]
     },
     "execution_count": 41,
     "metadata": {},
     "output_type": "execute_result"
    }
   ],
   "source": [
    "doctopic_orig.shape"
   ]
  },
  {
   "cell_type": "code",
   "execution_count": 42,
   "metadata": {},
   "outputs": [
    {
     "data": {
      "text/plain": [
       "1760"
      ]
     },
     "execution_count": 42,
     "metadata": {},
     "output_type": "execute_result"
    }
   ],
   "source": [
    "doctopic_orig.data.nbytes  # number of bytes document-topic shares take up"
   ]
  },
  {
   "cell_type": "code",
   "execution_count": 43,
   "metadata": {
    "collapsed": true
   },
   "outputs": [],
   "source": [
    "novels = sorted(set(novel_names))"
   ]
  },
  {
   "cell_type": "code",
   "execution_count": 44,
   "metadata": {},
   "outputs": [
    {
     "name": "stdout",
     "output_type": "stream",
     "text": [
      "Top topics in...\n"
     ]
    }
   ],
   "source": [
    "print(\"Top topics in...\")"
   ]
  },
  {
   "cell_type": "code",
   "execution_count": 45,
   "metadata": {},
   "outputs": [
    {
     "name": "stdout",
     "output_type": "stream",
     "text": [
      "Cluster0: 19 1 18\n",
      "Cluster1: 16 6 14\n",
      "Cluster10: 10 13 1\n",
      "Cluster2: 15 4 14\n",
      "Cluster3: 17 6 14\n",
      "Cluster4: 7 0 2\n",
      "Cluster5: 2 6 1\n",
      "Cluster6: 5 13 18\n",
      "Cluster7: 9 0 13\n",
      "Cluster8: 12 0 4\n",
      "Cluster9: 8 11 4\n"
     ]
    }
   ],
   "source": [
    "for i in range(len(doctopic)):\n",
    "    top_topics = np.argsort(doctopic[i,:])[::-1][0:3]\n",
    "    top_topics_str = ' '.join(str(t) for t in top_topics)\n",
    "    print(\"{}: {}\".format(novels[i], top_topics_str))"
   ]
  },
  {
   "cell_type": "code",
   "execution_count": 46,
   "metadata": {
    "collapsed": true
   },
   "outputs": [],
   "source": [
    "with open('/tmp/topic-keys.txt') as input:\n",
    "    topic_keys_lines = input.readlines()"
   ]
  },
  {
   "cell_type": "code",
   "execution_count": 47,
   "metadata": {
    "collapsed": true
   },
   "outputs": [],
   "source": [
    "topic_words = []"
   ]
  },
  {
   "cell_type": "code",
   "execution_count": 48,
   "metadata": {
    "collapsed": true
   },
   "outputs": [],
   "source": [
    "for line in topic_keys_lines:\n",
    "    _, _, words = line.split('\\t')  # tab-separated\n",
    "    words = words.rstrip().split(' ')  # remove the trailing '\\n'\n",
    "    topic_words.append(words)"
   ]
  },
  {
   "cell_type": "code",
   "execution_count": 49,
   "metadata": {},
   "outputs": [
    {
     "data": {
      "text/plain": [
       "['public',\n",
       " 'management',\n",
       " 'systems',\n",
       " 'sector',\n",
       " 'paper',\n",
       " 'organizational',\n",
       " 'case',\n",
       " 'change',\n",
       " 'processes',\n",
       " 'success',\n",
       " 'organization',\n",
       " 'service',\n",
       " 'social',\n",
       " 'human',\n",
       " 'agencies',\n",
       " 'purpose',\n",
       " 'integrated',\n",
       " 'strategy',\n",
       " 'developing']"
      ]
     },
     "execution_count": 49,
     "metadata": {},
     "output_type": "execute_result"
    }
   ],
   "source": [
    "topic_words[0]"
   ]
  },
  {
   "cell_type": "code",
   "execution_count": 50,
   "metadata": {
    "collapsed": true
   },
   "outputs": [],
   "source": [
    "N_WORDS_DISPLAY = 19"
   ]
  },
  {
   "cell_type": "code",
   "execution_count": 51,
   "metadata": {},
   "outputs": [
    {
     "name": "stdout",
     "output_type": "stream",
     "text": [
      "Topic 0: public management systems sector paper organizational case change processes success organization service social human agencies purpose integrated strategy developing\n",
      "Topic 1: information adoption influence findings related survey show media explain experience states suggest found issues behavior national community growing addition\n",
      "Topic 2: performance transparency participation studies capability managerial bureaucrats municipal city greater increased eas consistent countries initiatives measurement programs higher evolution\n",
      "Topic 3: abstract study level future citizen implications practice characteristics structure policy perspective technological concept include set years general power nature\n",
      "Topic 4: information research framework system development theoretical implementation institutional support challenges organizations important proposed develop theories effective building identified corporate\n",
      "Topic 5: development countries governance developing economic innovation infrastructure policy corruption field national soa eparticipation developed investments capital performance specific view\n",
      "Topic 6: government citizens governments internet political electronic process levels recent keywords delivery terms environment united central access understanding practitioners channels\n",
      "Topic 7: innovation managers variables manufacturing organizational size www task strategic marketing adopt error costs perceived alienation downsizing constructs personnel external\n",
      "Topic 8: user users service participation design satisfaction development approaches products lead instrument egovernment involvement measuring including ways explore usability requirements\n",
      "Topic 9: sharing information knowledge organizations technology projects project benefits capabilities barriers critical interoperability research study perceptions coordination organizational integration frameworks\n",
      "Topic 10: trust privacy perceived commerce internet personal concerns risk relationships consumers consumer technologies discussed ease task peou online modeling mechanisms\n",
      "Topic 11: model services web quality site customer methods practices oriented validity proposes measures american market comprehensive primarily type lack explores\n",
      "Topic 12: government social technologies governance theory state relationships ict developed technology digital design boundaries discusses corruption policies production bureaucracy group\n",
      "Topic 13: author workspace keywords open links list affiliation correspond letters numbers workspaceopens expose understanding click country service institutions role complex\n",
      "Topic 14: local article analysis models literature empirical authors evidence time decision science administration businesses services existing effects groups making offers\n",
      "Topic 15: research approach electronic systems action based principles studies stage democracy provide meta published platform online work authorities paper aspects\n",
      "Topic 16: open shopping online respondents design issues attitudes barriers interactions store nz diffusion manner telecommunications incentives vision initiatives shorter buying\n",
      "Topic 17: technology communication public impact administrative applications examines activity values traditional offer individual opportunities high current actual main previous reduced\n",
      "Topic 18: data factors results business research relationship based significant key role theory provide order world number environmental shows small positive\n",
      "Topic 19: online digital trust internet women web differences health gender people divide influences access advertising healthcare older past men adults\n"
     ]
    }
   ],
   "source": [
    "for t in range(len(topic_words)):\n",
    "    print(\"Topic {}: {}\".format(t, ' '.join(topic_words[t][:N_WORDS_DISPLAY])))"
   ]
  },
  {
   "cell_type": "code",
   "execution_count": 44,
   "metadata": {
    "collapsed": true
   },
   "outputs": [],
   "source": [
    "austen_indices, cbronte_indices = [], []"
   ]
  },
  {
   "cell_type": "code",
   "execution_count": 45,
   "metadata": {
    "collapsed": true
   },
   "outputs": [],
   "source": [
    "for index, fn in enumerate(sorted(set(novel_names))):\n",
    "    if \"Austen\" in fn:\n",
    "        austen_indices.append(index)\n",
    "    elif \"CBronte\" in fn:\n",
    "        cbronte_indices.append(index)"
   ]
  },
  {
   "cell_type": "code",
   "execution_count": 46,
   "metadata": {},
   "outputs": [
    {
     "name": "stderr",
     "output_type": "stream",
     "text": [
      "/home/noufal/anaconda2/envs/36python/lib/python3.6/site-packages/numpy/core/fromnumeric.py:2909: RuntimeWarning: Mean of empty slice.\n",
      "  out=out, **kwargs)\n",
      "/home/noufal/anaconda2/envs/36python/lib/python3.6/site-packages/numpy/core/_methods.py:73: RuntimeWarning: invalid value encountered in true_divide\n",
      "  ret, rcount, out=ret, casting='unsafe', subok=False)\n"
     ]
    }
   ],
   "source": [
    "austen_avg = np.mean(doctopic[austen_indices, :], axis=0)"
   ]
  },
  {
   "cell_type": "code",
   "execution_count": 47,
   "metadata": {},
   "outputs": [
    {
     "name": "stderr",
     "output_type": "stream",
     "text": [
      "/home/noufal/anaconda2/envs/36python/lib/python3.6/site-packages/numpy/core/fromnumeric.py:2909: RuntimeWarning: Mean of empty slice.\n",
      "  out=out, **kwargs)\n",
      "/home/noufal/anaconda2/envs/36python/lib/python3.6/site-packages/numpy/core/_methods.py:73: RuntimeWarning: invalid value encountered in true_divide\n",
      "  ret, rcount, out=ret, casting='unsafe', subok=False)\n"
     ]
    }
   ],
   "source": [
    "cbronte_avg = np.mean(doctopic[cbronte_indices, :], axis=0)"
   ]
  },
  {
   "cell_type": "code",
   "execution_count": 48,
   "metadata": {
    "collapsed": true
   },
   "outputs": [],
   "source": [
    "keyness = np.abs(austen_avg - cbronte_avg)"
   ]
  },
  {
   "cell_type": "code",
   "execution_count": 49,
   "metadata": {
    "collapsed": true
   },
   "outputs": [],
   "source": [
    "ranking = np.argsort(keyness)[::-1]  # from highest to lowest; [::-1] reverses order in Python sequences"
   ]
  },
  {
   "cell_type": "code",
   "execution_count": 50,
   "metadata": {},
   "outputs": [
    {
     "data": {
      "text/plain": [
       "array([19, 18,  1,  2,  3,  4,  5,  6,  7,  8])"
      ]
     },
     "execution_count": 50,
     "metadata": {},
     "output_type": "execute_result"
    }
   ],
   "source": [
    "ranking[:10]"
   ]
  },
  {
   "cell_type": "code",
   "execution_count": null,
   "metadata": {
    "collapsed": true
   },
   "outputs": [],
   "source": []
  }
 ],
 "metadata": {
  "kernelspec": {
   "display_name": "Python 3",
   "language": "python",
   "name": "python3"
  },
  "language_info": {
   "codemirror_mode": {
    "name": "ipython",
    "version": 3
   },
   "file_extension": ".py",
   "mimetype": "text/x-python",
   "name": "python",
   "nbconvert_exporter": "python",
   "pygments_lexer": "ipython3",
   "version": "3.6.2"
  }
 },
 "nbformat": 4,
 "nbformat_minor": 1
}
